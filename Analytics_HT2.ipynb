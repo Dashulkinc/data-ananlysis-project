{
  "cells": [
    {
      "cell_type": "markdown",
      "id": "9074d943",
      "metadata": {
        "id": "9074d943"
      },
      "source": [
        "# Введение в аналитику данных: домашнее задание 2"
      ]
    },
    {
      "cell_type": "markdown",
      "id": "9ec5a430",
      "metadata": {
        "id": "9ec5a430"
      },
      "source": [
        "В этом домашнем задании мы будем проверять гипотезы. Во всех задачах подробно обосновывайте выбор критерия для проверки гипотезы и делайте выводы (можно пользоваться учебниками и генеративными моделями - но пропускайте подсказки ассистентов через голову).\n",
        "\n",
        "У вас будет 4 задания - каждое весит 2.5 балла из 10, суммарно за домашнее задание можно набрать 10 баллов.\n",
        "\n",
        "Оцениваются:\n",
        "\n",
        "* корректность полученных результатов\n",
        "* подробность обоснования выбора статистических тестов и выводы\n",
        "\n",
        "Ответы записывайте внутри вашего рабочего google colab, а также (подробно текстом) дублируйте [в форму](https://docs.google.com/forms/d/e/1FAIpQLSfddNy4g88YHPA4fux1TLYaweFf4SWPiU0loeuwCYID7eiW4w/viewform?usp=sf_link)."
      ]
    },
    {
      "cell_type": "code",
      "execution_count": null,
      "id": "154ad6fa",
      "metadata": {
        "id": "154ad6fa"
      },
      "outputs": [],
      "source": [
        "import numpy as np\n",
        "import pandas as pd\n",
        "\n",
        "from scipy import stats as sts\n",
        "\n",
        "import seaborn as sns\n",
        "import matplotlib.pyplot as plt"
      ]
    },
    {
      "cell_type": "markdown",
      "id": "b4a9c38f",
      "metadata": {
        "id": "b4a9c38f"
      },
      "source": [
        "## Задание 1 (рейтинги президентов)\n",
        "\n",
        "В таблице `presidents.csv` представлены рейтинги различных президентов США (интересно, почему не российских). Социальные опросы проводились раз в квартал. Опрашивалась случайная выборка граждан. У каждого спрашивалось одобряет ли он деятельность президента.\n",
        "\n",
        "Ричард Никсон был президентом США с 20 января 1969 года по 9 августа 1974 года. 17 июня 1972 года произошёл Уотергейтский скандал. Давайте проанализируем, что при этом произошло с его рейтингом."
      ]
    },
    {
      "cell_type": "code",
      "execution_count": null,
      "id": "82891bdd",
      "metadata": {
        "colab": {
          "base_uri": "https://localhost:8080/",
          "height": 204
        },
        "id": "82891bdd",
        "outputId": "d05474fe-525f-430f-988d-91a73d8e84d7"
      },
      "outputs": [
        {
          "output_type": "execute_result",
          "data": {
            "text/plain": [
              "   year  Qtr1  Qtr2  Qtr3  Qtr4\n",
              "0  1945   NaN    87  82.0  75.0\n",
              "1  1946  63.0    50  43.0  32.0\n",
              "2  1947  35.0    60  54.0  55.0\n",
              "3  1948  36.0    39   NaN   NaN\n",
              "4  1949  69.0    57  57.0  51.0"
            ],
            "text/html": [
              "\n",
              "  <div id=\"df-58fce2cf-6399-4de4-bb18-040f0d8c7a55\" class=\"colab-df-container\">\n",
              "    <div>\n",
              "<style scoped>\n",
              "    .dataframe tbody tr th:only-of-type {\n",
              "        vertical-align: middle;\n",
              "    }\n",
              "\n",
              "    .dataframe tbody tr th {\n",
              "        vertical-align: top;\n",
              "    }\n",
              "\n",
              "    .dataframe thead th {\n",
              "        text-align: right;\n",
              "    }\n",
              "</style>\n",
              "<table border=\"1\" class=\"dataframe\">\n",
              "  <thead>\n",
              "    <tr style=\"text-align: right;\">\n",
              "      <th></th>\n",
              "      <th>year</th>\n",
              "      <th>Qtr1</th>\n",
              "      <th>Qtr2</th>\n",
              "      <th>Qtr3</th>\n",
              "      <th>Qtr4</th>\n",
              "    </tr>\n",
              "  </thead>\n",
              "  <tbody>\n",
              "    <tr>\n",
              "      <th>0</th>\n",
              "      <td>1945</td>\n",
              "      <td>NaN</td>\n",
              "      <td>87</td>\n",
              "      <td>82.0</td>\n",
              "      <td>75.0</td>\n",
              "    </tr>\n",
              "    <tr>\n",
              "      <th>1</th>\n",
              "      <td>1946</td>\n",
              "      <td>63.0</td>\n",
              "      <td>50</td>\n",
              "      <td>43.0</td>\n",
              "      <td>32.0</td>\n",
              "    </tr>\n",
              "    <tr>\n",
              "      <th>2</th>\n",
              "      <td>1947</td>\n",
              "      <td>35.0</td>\n",
              "      <td>60</td>\n",
              "      <td>54.0</td>\n",
              "      <td>55.0</td>\n",
              "    </tr>\n",
              "    <tr>\n",
              "      <th>3</th>\n",
              "      <td>1948</td>\n",
              "      <td>36.0</td>\n",
              "      <td>39</td>\n",
              "      <td>NaN</td>\n",
              "      <td>NaN</td>\n",
              "    </tr>\n",
              "    <tr>\n",
              "      <th>4</th>\n",
              "      <td>1949</td>\n",
              "      <td>69.0</td>\n",
              "      <td>57</td>\n",
              "      <td>57.0</td>\n",
              "      <td>51.0</td>\n",
              "    </tr>\n",
              "  </tbody>\n",
              "</table>\n",
              "</div>\n",
              "    <div class=\"colab-df-buttons\">\n",
              "\n",
              "  <div class=\"colab-df-container\">\n",
              "    <button class=\"colab-df-convert\" onclick=\"convertToInteractive('df-58fce2cf-6399-4de4-bb18-040f0d8c7a55')\"\n",
              "            title=\"Convert this dataframe to an interactive table.\"\n",
              "            style=\"display:none;\">\n",
              "\n",
              "  <svg xmlns=\"http://www.w3.org/2000/svg\" height=\"24px\" viewBox=\"0 -960 960 960\">\n",
              "    <path d=\"M120-120v-720h720v720H120Zm60-500h600v-160H180v160Zm220 220h160v-160H400v160Zm0 220h160v-160H400v160ZM180-400h160v-160H180v160Zm440 0h160v-160H620v160ZM180-180h160v-160H180v160Zm440 0h160v-160H620v160Z\"/>\n",
              "  </svg>\n",
              "    </button>\n",
              "\n",
              "  <style>\n",
              "    .colab-df-container {\n",
              "      display:flex;\n",
              "      gap: 12px;\n",
              "    }\n",
              "\n",
              "    .colab-df-convert {\n",
              "      background-color: #E8F0FE;\n",
              "      border: none;\n",
              "      border-radius: 50%;\n",
              "      cursor: pointer;\n",
              "      display: none;\n",
              "      fill: #1967D2;\n",
              "      height: 32px;\n",
              "      padding: 0 0 0 0;\n",
              "      width: 32px;\n",
              "    }\n",
              "\n",
              "    .colab-df-convert:hover {\n",
              "      background-color: #E2EBFA;\n",
              "      box-shadow: 0px 1px 2px rgba(60, 64, 67, 0.3), 0px 1px 3px 1px rgba(60, 64, 67, 0.15);\n",
              "      fill: #174EA6;\n",
              "    }\n",
              "\n",
              "    .colab-df-buttons div {\n",
              "      margin-bottom: 4px;\n",
              "    }\n",
              "\n",
              "    [theme=dark] .colab-df-convert {\n",
              "      background-color: #3B4455;\n",
              "      fill: #D2E3FC;\n",
              "    }\n",
              "\n",
              "    [theme=dark] .colab-df-convert:hover {\n",
              "      background-color: #434B5C;\n",
              "      box-shadow: 0px 1px 3px 1px rgba(0, 0, 0, 0.15);\n",
              "      filter: drop-shadow(0px 1px 2px rgba(0, 0, 0, 0.3));\n",
              "      fill: #FFFFFF;\n",
              "    }\n",
              "  </style>\n",
              "\n",
              "    <script>\n",
              "      const buttonEl =\n",
              "        document.querySelector('#df-58fce2cf-6399-4de4-bb18-040f0d8c7a55 button.colab-df-convert');\n",
              "      buttonEl.style.display =\n",
              "        google.colab.kernel.accessAllowed ? 'block' : 'none';\n",
              "\n",
              "      async function convertToInteractive(key) {\n",
              "        const element = document.querySelector('#df-58fce2cf-6399-4de4-bb18-040f0d8c7a55');\n",
              "        const dataTable =\n",
              "          await google.colab.kernel.invokeFunction('convertToInteractive',\n",
              "                                                    [key], {});\n",
              "        if (!dataTable) return;\n",
              "\n",
              "        const docLinkHtml = 'Like what you see? Visit the ' +\n",
              "          '<a target=\"_blank\" href=https://colab.research.google.com/notebooks/data_table.ipynb>data table notebook</a>'\n",
              "          + ' to learn more about interactive tables.';\n",
              "        element.innerHTML = '';\n",
              "        dataTable['output_type'] = 'display_data';\n",
              "        await google.colab.output.renderOutput(dataTable, element);\n",
              "        const docLink = document.createElement('div');\n",
              "        docLink.innerHTML = docLinkHtml;\n",
              "        element.appendChild(docLink);\n",
              "      }\n",
              "    </script>\n",
              "  </div>\n",
              "\n",
              "\n",
              "<div id=\"df-3a02a9dc-85e4-4e14-a73b-9078b0456d09\">\n",
              "  <button class=\"colab-df-quickchart\" onclick=\"quickchart('df-3a02a9dc-85e4-4e14-a73b-9078b0456d09')\"\n",
              "            title=\"Suggest charts\"\n",
              "            style=\"display:none;\">\n",
              "\n",
              "<svg xmlns=\"http://www.w3.org/2000/svg\" height=\"24px\"viewBox=\"0 0 24 24\"\n",
              "     width=\"24px\">\n",
              "    <g>\n",
              "        <path d=\"M19 3H5c-1.1 0-2 .9-2 2v14c0 1.1.9 2 2 2h14c1.1 0 2-.9 2-2V5c0-1.1-.9-2-2-2zM9 17H7v-7h2v7zm4 0h-2V7h2v10zm4 0h-2v-4h2v4z\"/>\n",
              "    </g>\n",
              "</svg>\n",
              "  </button>\n",
              "\n",
              "<style>\n",
              "  .colab-df-quickchart {\n",
              "      --bg-color: #E8F0FE;\n",
              "      --fill-color: #1967D2;\n",
              "      --hover-bg-color: #E2EBFA;\n",
              "      --hover-fill-color: #174EA6;\n",
              "      --disabled-fill-color: #AAA;\n",
              "      --disabled-bg-color: #DDD;\n",
              "  }\n",
              "\n",
              "  [theme=dark] .colab-df-quickchart {\n",
              "      --bg-color: #3B4455;\n",
              "      --fill-color: #D2E3FC;\n",
              "      --hover-bg-color: #434B5C;\n",
              "      --hover-fill-color: #FFFFFF;\n",
              "      --disabled-bg-color: #3B4455;\n",
              "      --disabled-fill-color: #666;\n",
              "  }\n",
              "\n",
              "  .colab-df-quickchart {\n",
              "    background-color: var(--bg-color);\n",
              "    border: none;\n",
              "    border-radius: 50%;\n",
              "    cursor: pointer;\n",
              "    display: none;\n",
              "    fill: var(--fill-color);\n",
              "    height: 32px;\n",
              "    padding: 0;\n",
              "    width: 32px;\n",
              "  }\n",
              "\n",
              "  .colab-df-quickchart:hover {\n",
              "    background-color: var(--hover-bg-color);\n",
              "    box-shadow: 0 1px 2px rgba(60, 64, 67, 0.3), 0 1px 3px 1px rgba(60, 64, 67, 0.15);\n",
              "    fill: var(--button-hover-fill-color);\n",
              "  }\n",
              "\n",
              "  .colab-df-quickchart-complete:disabled,\n",
              "  .colab-df-quickchart-complete:disabled:hover {\n",
              "    background-color: var(--disabled-bg-color);\n",
              "    fill: var(--disabled-fill-color);\n",
              "    box-shadow: none;\n",
              "  }\n",
              "\n",
              "  .colab-df-spinner {\n",
              "    border: 2px solid var(--fill-color);\n",
              "    border-color: transparent;\n",
              "    border-bottom-color: var(--fill-color);\n",
              "    animation:\n",
              "      spin 1s steps(1) infinite;\n",
              "  }\n",
              "\n",
              "  @keyframes spin {\n",
              "    0% {\n",
              "      border-color: transparent;\n",
              "      border-bottom-color: var(--fill-color);\n",
              "      border-left-color: var(--fill-color);\n",
              "    }\n",
              "    20% {\n",
              "      border-color: transparent;\n",
              "      border-left-color: var(--fill-color);\n",
              "      border-top-color: var(--fill-color);\n",
              "    }\n",
              "    30% {\n",
              "      border-color: transparent;\n",
              "      border-left-color: var(--fill-color);\n",
              "      border-top-color: var(--fill-color);\n",
              "      border-right-color: var(--fill-color);\n",
              "    }\n",
              "    40% {\n",
              "      border-color: transparent;\n",
              "      border-right-color: var(--fill-color);\n",
              "      border-top-color: var(--fill-color);\n",
              "    }\n",
              "    60% {\n",
              "      border-color: transparent;\n",
              "      border-right-color: var(--fill-color);\n",
              "    }\n",
              "    80% {\n",
              "      border-color: transparent;\n",
              "      border-right-color: var(--fill-color);\n",
              "      border-bottom-color: var(--fill-color);\n",
              "    }\n",
              "    90% {\n",
              "      border-color: transparent;\n",
              "      border-bottom-color: var(--fill-color);\n",
              "    }\n",
              "  }\n",
              "</style>\n",
              "\n",
              "  <script>\n",
              "    async function quickchart(key) {\n",
              "      const quickchartButtonEl =\n",
              "        document.querySelector('#' + key + ' button');\n",
              "      quickchartButtonEl.disabled = true;  // To prevent multiple clicks.\n",
              "      quickchartButtonEl.classList.add('colab-df-spinner');\n",
              "      try {\n",
              "        const charts = await google.colab.kernel.invokeFunction(\n",
              "            'suggestCharts', [key], {});\n",
              "      } catch (error) {\n",
              "        console.error('Error during call to suggestCharts:', error);\n",
              "      }\n",
              "      quickchartButtonEl.classList.remove('colab-df-spinner');\n",
              "      quickchartButtonEl.classList.add('colab-df-quickchart-complete');\n",
              "    }\n",
              "    (() => {\n",
              "      let quickchartButtonEl =\n",
              "        document.querySelector('#df-3a02a9dc-85e4-4e14-a73b-9078b0456d09 button');\n",
              "      quickchartButtonEl.style.display =\n",
              "        google.colab.kernel.accessAllowed ? 'block' : 'none';\n",
              "    })();\n",
              "  </script>\n",
              "</div>\n",
              "\n",
              "    </div>\n",
              "  </div>\n"
            ],
            "application/vnd.google.colaboratory.intrinsic+json": {
              "type": "dataframe",
              "variable_name": "df",
              "summary": "{\n  \"name\": \"df\",\n  \"rows\": 30,\n  \"fields\": [\n    {\n      \"column\": \"year\",\n      \"properties\": {\n        \"dtype\": \"number\",\n        \"std\": 8,\n        \"min\": 1945,\n        \"max\": 1974,\n        \"num_unique_values\": 30,\n        \"samples\": [\n          1972,\n          1960,\n          1968\n        ],\n        \"semantic_type\": \"\",\n        \"description\": \"\"\n      }\n    },\n    {\n      \"column\": \"Qtr1\",\n      \"properties\": {\n        \"dtype\": \"number\",\n        \"std\": 16.569305112803683,\n        \"min\": 25.0,\n        \"max\": 80.0,\n        \"num_unique_values\": 20,\n        \"samples\": [\n          63.0,\n          49.0,\n          66.0\n        ],\n        \"semantic_type\": \"\",\n        \"description\": \"\"\n      }\n    },\n    {\n      \"column\": \"Qtr2\",\n      \"properties\": {\n        \"dtype\": \"number\",\n        \"std\": 15,\n        \"min\": 24,\n        \"max\": 87,\n        \"num_unique_values\": 24,\n        \"samples\": [\n          74,\n          73,\n          87\n        ],\n        \"semantic_type\": \"\",\n        \"description\": \"\"\n      }\n    },\n    {\n      \"column\": \"Qtr3\",\n      \"properties\": {\n        \"dtype\": \"number\",\n        \"std\": 14.77350365540992,\n        \"min\": 24.0,\n        \"max\": 82.0,\n        \"num_unique_values\": 21,\n        \"samples\": [\n          82.0,\n          35.0,\n          56.0\n        ],\n        \"semantic_type\": \"\",\n        \"description\": \"\"\n      }\n    },\n    {\n      \"column\": \"Qtr4\",\n      \"properties\": {\n        \"dtype\": \"number\",\n        \"std\": 15.862671232309475,\n        \"min\": 23.0,\n        \"max\": 78.0,\n        \"num_unique_values\": 21,\n        \"samples\": [\n          75.0,\n          56.0,\n          44.0\n        ],\n        \"semantic_type\": \"\",\n        \"description\": \"\"\n      }\n    }\n  ]\n}"
            }
          },
          "metadata": {},
          "execution_count": 51
        }
      ],
      "source": [
        "df = pd.read_csv('https://raw.githubusercontent.com/aiedu-courses/all_datasets/main/presidents.csv')\n",
        "df.head()"
      ]
    },
    {
      "cell_type": "markdown",
      "id": "c87d176d",
      "metadata": {
        "id": "c87d176d"
      },
      "source": [
        "Чтобы привести таблицу к удобному виду используйте функцию `pd.melt`. Вытащите из таблички рейтинг Никсона с 1 квартала 1969 года по 2 квартал 1972 года (включая его). Запишите эти данные в переменную `x`. Рейтинг с 3 квартала 1972 года по 2 квартал 1974 года поместите в переменную `y`. Пропуски в данных удалите из выборки."
      ]
    },
    {
      "cell_type": "code",
      "execution_count": null,
      "id": "abcb7a68",
      "metadata": {
        "id": "abcb7a68",
        "colab": {
          "base_uri": "https://localhost:8080/"
        },
        "outputId": "f0189b96-a666-4da6-945c-6ef7dfef3bf7"
      },
      "outputs": [
        {
          "output_type": "stream",
          "name": "stdout",
          "text": [
            "    year Quarter  Rating\n",
            "0   1969    Qtr1    59.0\n",
            "1   1970    Qtr1    66.0\n",
            "2   1971    Qtr1    51.0\n",
            "3   1972    Qtr1    49.0\n",
            "4   1969    Qtr2    65.0\n",
            "5   1970    Qtr2    53.0\n",
            "6   1971    Qtr2    48.0\n",
            "7   1972    Qtr2    61.0\n",
            "8   1969    Qtr3    65.0\n",
            "9   1970    Qtr3    61.0\n",
            "10  1971    Qtr3    54.0\n",
            "12  1969    Qtr4    56.0\n",
            "13  1970    Qtr4    52.0\n",
            "14  1971    Qtr4    49.0\n",
            "   year variable  value\n",
            "0  1973     Qtr1   68.0\n",
            "1  1974     Qtr1   28.0\n",
            "2  1973     Qtr2   44.0\n",
            "3  1974     Qtr2   25.0\n",
            "4  1973     Qtr3   40.0\n",
            "6  1973     Qtr4   27.0\n"
          ]
        }
      ],
      "source": [
        "x = df[(1969 <= df['year']) & (df['year'] <= 1972)]\n",
        "x = pd.melt(x, id_vars=['year'], var_name='Quarter', value_name='Rating').dropna()\n",
        "print(x)\n",
        "\n",
        "y = df[(1973 <= df['year'])]\n",
        "y = pd.melt(y, id_vars='year').dropna()\n",
        "y = y[~((y['year'] == 1974) & (y['variable'].isin(['Qtr3','Qtr4'])))]\n",
        "print(y)"
      ]
    },
    {
      "cell_type": "markdown",
      "id": "fd439aca",
      "metadata": {
        "id": "fd439aca"
      },
      "source": [
        "Правда ли, что после скандала средний рейтинг Никсона рухнул? Предполагайте, что рейтинг распределён нормально, а также, что дисперсия рейтинга не изменилась из-за скандала. Наблюдаемое значение статистики запишите в переменную `obs`, в переменную `pval` запишите $p$-значение."
      ]
    },
    {
      "cell_type": "markdown",
      "source": [
        "h0: mu_x = mu_y\n",
        "\n",
        "h1: mu_x > mu_y"
      ],
      "metadata": {
        "id": "YN8JgPhI7uaf"
      },
      "id": "YN8JgPhI7uaf"
    },
    {
      "cell_type": "code",
      "execution_count": null,
      "id": "0a597358",
      "metadata": {
        "id": "0a597358",
        "colab": {
          "base_uri": "https://localhost:8080/"
        },
        "outputId": "1fc5b1ba-bf3c-438c-ed40-4dd771fe420f"
      },
      "outputs": [
        {
          "output_type": "stream",
          "name": "stdout",
          "text": [
            "3.5640741313229793 0.0011087344846424454\n",
            "Отвергаем нулевую гипотезу на уровне значимости 95%\n"
          ]
        }
      ],
      "source": [
        "from scipy.stats import ttest_ind\n",
        "obs, pval = sts.ttest_ind(x['Rating'], y['value'], alternative='greater',equal_var=True)\n",
        "print(obs, pval)\n",
        "if pval < 0.05:\n",
        "    print('Отвергаем нулевую гипотезу на уровне значимости 95%')\n",
        "else:\n",
        "    print('Не отвергаем нулевую гипотезу на уровне значимости 95%')"
      ]
    },
    {
      "cell_type": "code",
      "execution_count": null,
      "id": "e034f76c",
      "metadata": {
        "id": "e034f76c"
      },
      "outputs": [],
      "source": [
        "# небольшая самопроверка\n",
        "assert np.abs(obs - 3.5640741313229793) < 1e-5"
      ]
    },
    {
      "cell_type": "markdown",
      "id": "5eb8fd45",
      "metadata": {
        "id": "5eb8fd45"
      },
      "source": [
        "**Почему вы выбрали именно этот критерий для проверки гипотезы? Какие выводы вы сделали?**\n",
        "\n",
        "**Ответ (продублируйте в гугл-форму):**"
      ]
    },
    {
      "cell_type": "markdown",
      "source": [
        "Я использовала T-test, так как данные распределены нормально и дисперсия не изменилась. Мы отвергли нулевую гипотезу, значит средний рейтинг Никсона рухнул после скандала"
      ],
      "metadata": {
        "id": "at-kteLY8Y_M"
      },
      "id": "at-kteLY8Y_M"
    },
    {
      "cell_type": "markdown",
      "id": "b5d0253f",
      "metadata": {
        "id": "b5d0253f"
      },
      "source": [
        "Снова президентом Никсон станет в $3000$ году.\n",
        "\n",
        "![](https://vignette.wikia.nocookie.net/futurama/images/2/2f/Richard_M._Nixon%27s_head.jpg/revision/latest/scale-to-width-down/250?cb=20131123190522&path-prefix=ru)"
      ]
    },
    {
      "cell_type": "markdown",
      "id": "3ead1a50",
      "metadata": {
        "id": "3ead1a50"
      },
      "source": [
        "## Задание 2 (доктор сон)\n",
        "\n",
        "Проводится эксперимент о пользе нового снотворного. Для его проведения используется группа из $10$ студентов. В первый день каждый из них ложится спать. На утро измеряется, сколько он проспал. Из результата вычитают $8$ (нормальное число часов сна). На второй день каждому дают таблетку. Утром снова измеряют, сколько человек проспал, и вычитают $8$. Результаты эксперимента записаны в табличку `sleep.csv`."
      ]
    },
    {
      "cell_type": "code",
      "execution_count": null,
      "id": "e6be5698",
      "metadata": {
        "colab": {
          "base_uri": "https://localhost:8080/",
          "height": 204
        },
        "id": "e6be5698",
        "outputId": "317bbaaf-138a-4466-e33a-ee2f9c7283dd"
      },
      "outputs": [
        {
          "output_type": "execute_result",
          "data": {
            "text/plain": [
              "   extra  group  ID\n",
              "0    0.7      1   1\n",
              "1   -1.6      1   2\n",
              "2   -0.2      1   3\n",
              "3   -1.2      1   4\n",
              "4   -0.1      1   5"
            ],
            "text/html": [
              "\n",
              "  <div id=\"df-edeaa70a-e061-40f2-9058-7bd69b3de94e\" class=\"colab-df-container\">\n",
              "    <div>\n",
              "<style scoped>\n",
              "    .dataframe tbody tr th:only-of-type {\n",
              "        vertical-align: middle;\n",
              "    }\n",
              "\n",
              "    .dataframe tbody tr th {\n",
              "        vertical-align: top;\n",
              "    }\n",
              "\n",
              "    .dataframe thead th {\n",
              "        text-align: right;\n",
              "    }\n",
              "</style>\n",
              "<table border=\"1\" class=\"dataframe\">\n",
              "  <thead>\n",
              "    <tr style=\"text-align: right;\">\n",
              "      <th></th>\n",
              "      <th>extra</th>\n",
              "      <th>group</th>\n",
              "      <th>ID</th>\n",
              "    </tr>\n",
              "  </thead>\n",
              "  <tbody>\n",
              "    <tr>\n",
              "      <th>0</th>\n",
              "      <td>0.7</td>\n",
              "      <td>1</td>\n",
              "      <td>1</td>\n",
              "    </tr>\n",
              "    <tr>\n",
              "      <th>1</th>\n",
              "      <td>-1.6</td>\n",
              "      <td>1</td>\n",
              "      <td>2</td>\n",
              "    </tr>\n",
              "    <tr>\n",
              "      <th>2</th>\n",
              "      <td>-0.2</td>\n",
              "      <td>1</td>\n",
              "      <td>3</td>\n",
              "    </tr>\n",
              "    <tr>\n",
              "      <th>3</th>\n",
              "      <td>-1.2</td>\n",
              "      <td>1</td>\n",
              "      <td>4</td>\n",
              "    </tr>\n",
              "    <tr>\n",
              "      <th>4</th>\n",
              "      <td>-0.1</td>\n",
              "      <td>1</td>\n",
              "      <td>5</td>\n",
              "    </tr>\n",
              "  </tbody>\n",
              "</table>\n",
              "</div>\n",
              "    <div class=\"colab-df-buttons\">\n",
              "\n",
              "  <div class=\"colab-df-container\">\n",
              "    <button class=\"colab-df-convert\" onclick=\"convertToInteractive('df-edeaa70a-e061-40f2-9058-7bd69b3de94e')\"\n",
              "            title=\"Convert this dataframe to an interactive table.\"\n",
              "            style=\"display:none;\">\n",
              "\n",
              "  <svg xmlns=\"http://www.w3.org/2000/svg\" height=\"24px\" viewBox=\"0 -960 960 960\">\n",
              "    <path d=\"M120-120v-720h720v720H120Zm60-500h600v-160H180v160Zm220 220h160v-160H400v160Zm0 220h160v-160H400v160ZM180-400h160v-160H180v160Zm440 0h160v-160H620v160ZM180-180h160v-160H180v160Zm440 0h160v-160H620v160Z\"/>\n",
              "  </svg>\n",
              "    </button>\n",
              "\n",
              "  <style>\n",
              "    .colab-df-container {\n",
              "      display:flex;\n",
              "      gap: 12px;\n",
              "    }\n",
              "\n",
              "    .colab-df-convert {\n",
              "      background-color: #E8F0FE;\n",
              "      border: none;\n",
              "      border-radius: 50%;\n",
              "      cursor: pointer;\n",
              "      display: none;\n",
              "      fill: #1967D2;\n",
              "      height: 32px;\n",
              "      padding: 0 0 0 0;\n",
              "      width: 32px;\n",
              "    }\n",
              "\n",
              "    .colab-df-convert:hover {\n",
              "      background-color: #E2EBFA;\n",
              "      box-shadow: 0px 1px 2px rgba(60, 64, 67, 0.3), 0px 1px 3px 1px rgba(60, 64, 67, 0.15);\n",
              "      fill: #174EA6;\n",
              "    }\n",
              "\n",
              "    .colab-df-buttons div {\n",
              "      margin-bottom: 4px;\n",
              "    }\n",
              "\n",
              "    [theme=dark] .colab-df-convert {\n",
              "      background-color: #3B4455;\n",
              "      fill: #D2E3FC;\n",
              "    }\n",
              "\n",
              "    [theme=dark] .colab-df-convert:hover {\n",
              "      background-color: #434B5C;\n",
              "      box-shadow: 0px 1px 3px 1px rgba(0, 0, 0, 0.15);\n",
              "      filter: drop-shadow(0px 1px 2px rgba(0, 0, 0, 0.3));\n",
              "      fill: #FFFFFF;\n",
              "    }\n",
              "  </style>\n",
              "\n",
              "    <script>\n",
              "      const buttonEl =\n",
              "        document.querySelector('#df-edeaa70a-e061-40f2-9058-7bd69b3de94e button.colab-df-convert');\n",
              "      buttonEl.style.display =\n",
              "        google.colab.kernel.accessAllowed ? 'block' : 'none';\n",
              "\n",
              "      async function convertToInteractive(key) {\n",
              "        const element = document.querySelector('#df-edeaa70a-e061-40f2-9058-7bd69b3de94e');\n",
              "        const dataTable =\n",
              "          await google.colab.kernel.invokeFunction('convertToInteractive',\n",
              "                                                    [key], {});\n",
              "        if (!dataTable) return;\n",
              "\n",
              "        const docLinkHtml = 'Like what you see? Visit the ' +\n",
              "          '<a target=\"_blank\" href=https://colab.research.google.com/notebooks/data_table.ipynb>data table notebook</a>'\n",
              "          + ' to learn more about interactive tables.';\n",
              "        element.innerHTML = '';\n",
              "        dataTable['output_type'] = 'display_data';\n",
              "        await google.colab.output.renderOutput(dataTable, element);\n",
              "        const docLink = document.createElement('div');\n",
              "        docLink.innerHTML = docLinkHtml;\n",
              "        element.appendChild(docLink);\n",
              "      }\n",
              "    </script>\n",
              "  </div>\n",
              "\n",
              "\n",
              "<div id=\"df-693d440e-a330-4774-be1d-8ed2bc1bdce0\">\n",
              "  <button class=\"colab-df-quickchart\" onclick=\"quickchart('df-693d440e-a330-4774-be1d-8ed2bc1bdce0')\"\n",
              "            title=\"Suggest charts\"\n",
              "            style=\"display:none;\">\n",
              "\n",
              "<svg xmlns=\"http://www.w3.org/2000/svg\" height=\"24px\"viewBox=\"0 0 24 24\"\n",
              "     width=\"24px\">\n",
              "    <g>\n",
              "        <path d=\"M19 3H5c-1.1 0-2 .9-2 2v14c0 1.1.9 2 2 2h14c1.1 0 2-.9 2-2V5c0-1.1-.9-2-2-2zM9 17H7v-7h2v7zm4 0h-2V7h2v10zm4 0h-2v-4h2v4z\"/>\n",
              "    </g>\n",
              "</svg>\n",
              "  </button>\n",
              "\n",
              "<style>\n",
              "  .colab-df-quickchart {\n",
              "      --bg-color: #E8F0FE;\n",
              "      --fill-color: #1967D2;\n",
              "      --hover-bg-color: #E2EBFA;\n",
              "      --hover-fill-color: #174EA6;\n",
              "      --disabled-fill-color: #AAA;\n",
              "      --disabled-bg-color: #DDD;\n",
              "  }\n",
              "\n",
              "  [theme=dark] .colab-df-quickchart {\n",
              "      --bg-color: #3B4455;\n",
              "      --fill-color: #D2E3FC;\n",
              "      --hover-bg-color: #434B5C;\n",
              "      --hover-fill-color: #FFFFFF;\n",
              "      --disabled-bg-color: #3B4455;\n",
              "      --disabled-fill-color: #666;\n",
              "  }\n",
              "\n",
              "  .colab-df-quickchart {\n",
              "    background-color: var(--bg-color);\n",
              "    border: none;\n",
              "    border-radius: 50%;\n",
              "    cursor: pointer;\n",
              "    display: none;\n",
              "    fill: var(--fill-color);\n",
              "    height: 32px;\n",
              "    padding: 0;\n",
              "    width: 32px;\n",
              "  }\n",
              "\n",
              "  .colab-df-quickchart:hover {\n",
              "    background-color: var(--hover-bg-color);\n",
              "    box-shadow: 0 1px 2px rgba(60, 64, 67, 0.3), 0 1px 3px 1px rgba(60, 64, 67, 0.15);\n",
              "    fill: var(--button-hover-fill-color);\n",
              "  }\n",
              "\n",
              "  .colab-df-quickchart-complete:disabled,\n",
              "  .colab-df-quickchart-complete:disabled:hover {\n",
              "    background-color: var(--disabled-bg-color);\n",
              "    fill: var(--disabled-fill-color);\n",
              "    box-shadow: none;\n",
              "  }\n",
              "\n",
              "  .colab-df-spinner {\n",
              "    border: 2px solid var(--fill-color);\n",
              "    border-color: transparent;\n",
              "    border-bottom-color: var(--fill-color);\n",
              "    animation:\n",
              "      spin 1s steps(1) infinite;\n",
              "  }\n",
              "\n",
              "  @keyframes spin {\n",
              "    0% {\n",
              "      border-color: transparent;\n",
              "      border-bottom-color: var(--fill-color);\n",
              "      border-left-color: var(--fill-color);\n",
              "    }\n",
              "    20% {\n",
              "      border-color: transparent;\n",
              "      border-left-color: var(--fill-color);\n",
              "      border-top-color: var(--fill-color);\n",
              "    }\n",
              "    30% {\n",
              "      border-color: transparent;\n",
              "      border-left-color: var(--fill-color);\n",
              "      border-top-color: var(--fill-color);\n",
              "      border-right-color: var(--fill-color);\n",
              "    }\n",
              "    40% {\n",
              "      border-color: transparent;\n",
              "      border-right-color: var(--fill-color);\n",
              "      border-top-color: var(--fill-color);\n",
              "    }\n",
              "    60% {\n",
              "      border-color: transparent;\n",
              "      border-right-color: var(--fill-color);\n",
              "    }\n",
              "    80% {\n",
              "      border-color: transparent;\n",
              "      border-right-color: var(--fill-color);\n",
              "      border-bottom-color: var(--fill-color);\n",
              "    }\n",
              "    90% {\n",
              "      border-color: transparent;\n",
              "      border-bottom-color: var(--fill-color);\n",
              "    }\n",
              "  }\n",
              "</style>\n",
              "\n",
              "  <script>\n",
              "    async function quickchart(key) {\n",
              "      const quickchartButtonEl =\n",
              "        document.querySelector('#' + key + ' button');\n",
              "      quickchartButtonEl.disabled = true;  // To prevent multiple clicks.\n",
              "      quickchartButtonEl.classList.add('colab-df-spinner');\n",
              "      try {\n",
              "        const charts = await google.colab.kernel.invokeFunction(\n",
              "            'suggestCharts', [key], {});\n",
              "      } catch (error) {\n",
              "        console.error('Error during call to suggestCharts:', error);\n",
              "      }\n",
              "      quickchartButtonEl.classList.remove('colab-df-spinner');\n",
              "      quickchartButtonEl.classList.add('colab-df-quickchart-complete');\n",
              "    }\n",
              "    (() => {\n",
              "      let quickchartButtonEl =\n",
              "        document.querySelector('#df-693d440e-a330-4774-be1d-8ed2bc1bdce0 button');\n",
              "      quickchartButtonEl.style.display =\n",
              "        google.colab.kernel.accessAllowed ? 'block' : 'none';\n",
              "    })();\n",
              "  </script>\n",
              "</div>\n",
              "\n",
              "    </div>\n",
              "  </div>\n"
            ],
            "application/vnd.google.colaboratory.intrinsic+json": {
              "type": "dataframe",
              "variable_name": "df",
              "summary": "{\n  \"name\": \"df\",\n  \"rows\": 20,\n  \"fields\": [\n    {\n      \"column\": \"extra\",\n      \"properties\": {\n        \"dtype\": \"number\",\n        \"std\": 2.0179197209007103,\n        \"min\": -1.6,\n        \"max\": 5.5,\n        \"num_unique_values\": 17,\n        \"samples\": [\n          0.7,\n          -1.6,\n          3.4\n        ],\n        \"semantic_type\": \"\",\n        \"description\": \"\"\n      }\n    },\n    {\n      \"column\": \"group\",\n      \"properties\": {\n        \"dtype\": \"number\",\n        \"std\": 0,\n        \"min\": 1,\n        \"max\": 2,\n        \"num_unique_values\": 2,\n        \"samples\": [\n          2,\n          1\n        ],\n        \"semantic_type\": \"\",\n        \"description\": \"\"\n      }\n    },\n    {\n      \"column\": \"ID\",\n      \"properties\": {\n        \"dtype\": \"number\",\n        \"std\": 2,\n        \"min\": 1,\n        \"max\": 10,\n        \"num_unique_values\": 10,\n        \"samples\": [\n          9,\n          2\n        ],\n        \"semantic_type\": \"\",\n        \"description\": \"\"\n      }\n    }\n  ]\n}"
            }
          },
          "metadata": {},
          "execution_count": 55
        }
      ],
      "source": [
        "df = pd.read_csv('https://raw.githubusercontent.com/aiedu-courses/all_datasets/main/sleep.csv')\n",
        "df.head()"
      ]
    },
    {
      "cell_type": "markdown",
      "id": "563eb4c7",
      "metadata": {
        "id": "563eb4c7"
      },
      "source": [
        "Правда ли, что сон студентов до приёма снотворного не отличается от нормы (отклонение от 8 часов равно нулю). Проверьте эту гипотезу на $5\\%$ уровне значимости, в переменную `pval1` запишите p-значение."
      ]
    },
    {
      "cell_type": "markdown",
      "source": [
        "h0: сон до приема снотворного не отличается от нормы\n",
        "\n",
        "h1: сон до приема снотворного отличается от нормы"
      ],
      "metadata": {
        "id": "YA47-xTR_Xcp"
      },
      "id": "YA47-xTR_Xcp"
    },
    {
      "cell_type": "code",
      "execution_count": null,
      "id": "77ef90e5",
      "metadata": {
        "id": "77ef90e5",
        "colab": {
          "base_uri": "https://localhost:8080/"
        },
        "outputId": "8d335137-4b86-4466-ef6a-c023f585f684"
      },
      "outputs": [
        {
          "output_type": "stream",
          "name": "stdout",
          "text": [
            "1.3257101407138212 0.2175977800684489\n",
            "Не отвергаем нулевую гипотезу на уровне значимости 5%\n"
          ]
        }
      ],
      "source": [
        "from scipy.stats import ttest_1samp\n",
        "x1 = df[df['group'] == 1].drop(columns=['group', 'ID'])\n",
        "y1 = df[df['group'] == 2].drop(columns=['group', 'ID'])\n",
        "\n",
        "tobs1, pval1 = ttest_1samp(x1['extra'], 0, alternative='two-sided')\n",
        "print(tobs1, pval1)\n",
        "if pval1 < 0.05:\n",
        "    print('Отвергаем нулевую гипотезу на уровне значимости 5%')\n",
        "else:\n",
        "    print('Не отвергаем нулевую гипотезу на уровне значимости 5%')"
      ]
    },
    {
      "cell_type": "markdown",
      "id": "b979e7e1",
      "metadata": {
        "id": "b979e7e1"
      },
      "source": [
        "Правда ли, что благодаря таблеткам студенты стали спать больше (односторонняя альтернатива)? Запишите в переменную `pval2` соотвествующее p-значение."
      ]
    },
    {
      "cell_type": "markdown",
      "source": [
        "h0: mx = my\n",
        "\n",
        "h1: mx > my"
      ],
      "metadata": {
        "id": "WxLKPQO3BZqD"
      },
      "id": "WxLKPQO3BZqD"
    },
    {
      "cell_type": "code",
      "execution_count": null,
      "id": "dea8f470",
      "metadata": {
        "id": "dea8f470",
        "colab": {
          "base_uri": "https://localhost:8080/"
        },
        "outputId": "0b2ee02b-27cd-4b7f-8692-57d2c056e096"
      },
      "outputs": [
        {
          "output_type": "stream",
          "name": "stdout",
          "text": [
            "4.062127683382037 0.001416445098692135\n",
            "Отвергаем нулевую гипотезу на уровне значимости 5%\n"
          ]
        }
      ],
      "source": [
        "from scipy.stats import ttest_rel\n",
        "tobs2, pval2 = ttest_rel(y1['extra'], x1['extra'], alternative='greater')\n",
        "print(tobs2, pval2)\n",
        "if pval2 < 0.05:\n",
        "    print('Отвергаем нулевую гипотезу на уровне значимости 5%')\n",
        "else:\n",
        "    print('Не отвергаем нулевую гипотезу на уровне значимости 5%')"
      ]
    },
    {
      "cell_type": "code",
      "execution_count": null,
      "id": "5f6b72f9",
      "metadata": {
        "id": "5f6b72f9"
      },
      "outputs": [],
      "source": [
        "# самопроверка\n",
        "assert np.abs(tobs1 - 1.325710) < 1e-5\n",
        "assert np.abs(tobs2 - 4.062127) < 1e-5"
      ]
    },
    {
      "cell_type": "markdown",
      "id": "20d4a20f",
      "metadata": {
        "id": "20d4a20f"
      },
      "source": [
        "**Почему вы выбрали именно этот критерий для проверки гипотезы? Какие выводы вы сделали?**\n",
        "\n",
        "**Ответ (продублируйте в гугл-форму):**"
      ]
    },
    {
      "cell_type": "markdown",
      "source": [
        "Я использовала T-test, так как данные распределены нормально. В первом задании я использовала t-критерий для one sample выборки. Тест показал, что сон студентов до приема нового снотворного не отличается от нормы. Во втором задании у нас парный семпл, так как исследования проводятся на одинаковых обьектах, но при разных условиях. По результатам теста видно, что благодаря таблеткам студенты стали спать больше."
      ],
      "metadata": {
        "id": "TYb_Ho93B9lQ"
      },
      "id": "TYb_Ho93B9lQ"
    },
    {
      "cell_type": "markdown",
      "id": "bd399171",
      "metadata": {
        "id": "bd399171"
      },
      "source": [
        "## Задание 3 (мыши и зеркало)\n",
        "\n",
        "$16$ лабораторных мышей были помещены в двухкомнатные клетки, в одной из комнат висело зеркало. С целью установить, есть ли у мышей какие-то предпочтения насчет зеркал, измерялась доля времени, которое каждая мышь проводила в каждой из своих двух клеток.\n",
        "\n",
        "![](https://ars.els-cdn.com/content/image/1-s2.0-S0168159104000061-gr1.gif)\n",
        "\n",
        "В файле `mouses_mirror.txt` лежит информация о том, какую долю времени мышка проводила в клетке с зеркалом."
      ]
    },
    {
      "cell_type": "code",
      "execution_count": null,
      "id": "8796d379",
      "metadata": {
        "colab": {
          "base_uri": "https://localhost:8080/",
          "height": 430
        },
        "id": "8796d379",
        "outputId": "9a849044-30b0-4f28-b123-b2df1048c7ab"
      },
      "outputs": [
        {
          "output_type": "display_data",
          "data": {
            "text/plain": [
              "<Figure size 640x480 with 1 Axes>"
            ],
            "image/png": "[encoded data removed]"
          },
          "metadata": {}
        }
      ],
      "source": [
        "x = pd.read_csv('https://raw.githubusercontent.com/aiedu-courses/all_datasets/main/mouses_mirror.txt', header = None)[0].values\n",
        "plt.hist(x, density=True);"
      ]
    },
    {
      "cell_type": "markdown",
      "id": "a6e7a678",
      "metadata": {
        "id": "a6e7a678"
      },
      "source": [
        "Проверьте гипотезу о том, что мышкам безразлично в какой комнате проводить время с помощью критерия знаков. Сформулируйте нулевую гипотезу, перечислите основные особенности этого критерия. Запишите в переменную `pvalue_1` получившееся в результате этого $p$-значение."
      ]
    },
    {
      "cell_type": "markdown",
      "source": [
        "h0: p = 0.5\n",
        "\n",
        "h1: p != 0.5"
      ],
      "metadata": {
        "id": "W-9OX0XtEDr_"
      },
      "id": "W-9OX0XtEDr_"
    },
    {
      "cell_type": "code",
      "execution_count": null,
      "id": "922a754d",
      "metadata": {
        "id": "922a754d",
        "colab": {
          "base_uri": "https://localhost:8080/"
        },
        "outputId": "1505bcd0-eab2-4f7b-ce9f-fa617c127273"
      },
      "outputs": [
        {
          "output_type": "stream",
          "name": "stdout",
          "text": [
            "Отвергаем нулевую гипотезу на уровне значимости 5%\n"
          ]
        }
      ],
      "source": [
        "from scipy.stats import binomtest\n",
        "ans = sts.binomtest(sum(x > 0.5), len(x), p=0.5, alternative='two-sided')\n",
        "pvalue_1 = ans.pvalue\n",
        "if pvalue_1 < 0.05:\n",
        "    print('Отвергаем нулевую гипотезу на уровне значимости 5%')\n",
        "else:\n",
        "    print('Не отвергаем нулевую гипотезу на уровне значимости 5%')"
      ]
    },
    {
      "cell_type": "markdown",
      "id": "a696207c",
      "metadata": {
        "id": "a696207c"
      },
      "source": [
        "Проверьте гипотезу о том, что мышкам безразлично в какой комнате проводить время с помощью теста Вилкоксона. Сформулируйте нулевую гипотезу, перечислите основные особенности этого критерия.  Запишите в переменную `pvalue_2` получившееся в результате этого $p$-значение."
      ]
    },
    {
      "cell_type": "markdown",
      "source": [
        "h0: распределение одинаково\n",
        "\n",
        "h1: распределение разное"
      ],
      "metadata": {
        "id": "NaKFTM24Fjcw"
      },
      "id": "NaKFTM24Fjcw"
    },
    {
      "cell_type": "code",
      "execution_count": null,
      "id": "49371478",
      "metadata": {
        "id": "49371478",
        "colab": {
          "base_uri": "https://localhost:8080/"
        },
        "outputId": "8629f8bf-3c20-4141-b632-c6c97b947738"
      },
      "outputs": [
        {
          "output_type": "stream",
          "name": "stdout",
          "text": [
            "Не отвергаем нулевую гипотезу на уровне значимости 5%\n"
          ]
        }
      ],
      "source": [
        "from scipy.stats import wilcoxon\n",
        "stat, pvalue_2 = sts.wilcoxon(x - 0.5)\n",
        "if pvalue_2 < 0.05:\n",
        "    print('Отвергаем нулевую гипотезу на уровне значимости 5%')\n",
        "else:\n",
        "    print('Не отвергаем нулевую гипотезу на уровне значимости 5%')"
      ]
    },
    {
      "cell_type": "markdown",
      "id": "c86523d5",
      "metadata": {
        "id": "c86523d5"
      },
      "source": [
        "Проверьте гипотезу о том, что мышкам безразлично в какой комнате проводить время с помощью асимптотического $z$-теста. Сформулируйте нулевую гипотезу, перечислите основные особенности этого критерия.  Запишите в переменную `pvalue_3` получившееся в результате этого $p$-значение."
      ]
    },
    {
      "cell_type": "markdown",
      "source": [
        "h0: p = 0.5\n",
        "\n",
        "h1: p != 0.5"
      ],
      "metadata": {
        "id": "D78-sMv2F7N1"
      },
      "id": "D78-sMv2F7N1"
    },
    {
      "cell_type": "code",
      "execution_count": null,
      "id": "1a1a6be6",
      "metadata": {
        "id": "1a1a6be6",
        "colab": {
          "base_uri": "https://localhost:8080/"
        },
        "outputId": "33d10abc-4dfa-4761-f703-b83f8722772a"
      },
      "outputs": [
        {
          "output_type": "stream",
          "name": "stdout",
          "text": [
            "Не отвергаем нулевую гипотезу на уровне значимости 5%\n"
          ]
        }
      ],
      "source": [
        "from statsmodels.stats.weightstats import ztest, zconfint\n",
        "z_stat, pvalue_3 = ztest(x1, value=0.5)\n",
        "if pvalue_3 < 0.05:\n",
        "    print('Отвергаем нулевую гипотезу на уровне значимости 5%')\n",
        "else:\n",
        "    print('Не отвергаем нулевую гипотезу на уровне значимости 5%')"
      ]
    },
    {
      "cell_type": "code",
      "execution_count": null,
      "id": "135a7e69",
      "metadata": {
        "id": "135a7e69"
      },
      "outputs": [],
      "source": [
        "# проверка того, что задание решено верно\n",
        "assert pvalue_1 < 0.05\n",
        "assert pvalue_2 > 0.05\n",
        "assert pvalue_3 > 0.05"
      ]
    },
    {
      "cell_type": "markdown",
      "id": "13b27ac4",
      "metadata": {
        "id": "13b27ac4"
      },
      "source": [
        "Объясните, почему `pvalue` от теста к тесту ведёт себя именно так. Подробнее про опыт с мышками читайте [в оригинальном исследовании.](https://www.sciencedirect.com/science/article/abs/pii/S0168159104000061)\n",
        "\n",
        "__Ответ (продублируйте в гугл-форму):__"
      ]
    },
    {
      "cell_type": "markdown",
      "source": [
        "P-value отличается в зависимости от особенности теста\n",
        "\n",
        "В первом задании мы использовали биномиальный тест посколько с помощью него возможно проверить пропорцию времени, которую мыши проводили в комнате. Пропорция будет равна 0,5, если мышам нет разницы в какой комнате находиться\n",
        "\n",
        "Во втором задании мы использовали тест Вилкоксона, который проверяет гипотезу о том, что распределение времени, проведенного мышками в клетке с зеркалом, одинаково. В ланном кейсе мы сравниваем медиану разностей, если по результатам теста  медиана равна 0, то мышам безразлично, в какой комнате находиться\n",
        "\n",
        "В третьем задании мы использовали z-тест, который проверяет гипотезу о том, что среднее время, проведенное мышами в клетке с зеркалом, равно 0.5.  Если среднее время равно 0.5, то мышам безразлично в какой комнате находиться"
      ],
      "metadata": {
        "id": "NI2unp7sGCEi"
      },
      "id": "NI2unp7sGCEi"
    },
    {
      "cell_type": "markdown",
      "source": [
        "## Задание 4 (транзакции клиентов)\n",
        "\n",
        "Для увеличения конверсии мы хотим переименовать кнопку \"Subscribe now!\" на сайте в \"Keep me updated\".\n",
        "\n",
        "Данные о результатах A/B-теста находятся в таблице `a_b_test`. В колонке `transaction` для каждого клиента указано, кликнул он по кнопке или нет.\n",
        "\n",
        "Оцените эффект от изменения названия кнопки.\n",
        "\n"
      ],
      "metadata": {
        "id": "Yq8beINCCQos"
      },
      "id": "Yq8beINCCQos"
    },
    {
      "cell_type": "code",
      "source": [
        "a_b_test = pd.read_csv(\"https://raw.githubusercontent.com/aiedu-courses/all_datasets/main/ClientsTransactions.csv\")\n",
        "\n",
        "a_b_test.head()"
      ],
      "metadata": {
        "colab": {
          "base_uri": "https://localhost:8080/",
          "height": 204
        },
        "id": "pJk8x7FaCSeX",
        "outputId": "96ef231e-f42e-4809-82bb-952022e3fa87"
      },
      "id": "pJk8x7FaCSeX",
      "execution_count": null,
      "outputs": [
        {
          "output_type": "execute_result",
          "data": {
            "text/plain": [
              "  group  transaction\n",
              "0     B            0\n",
              "1     B            0\n",
              "2     A            0\n",
              "3     B            0\n",
              "4     A            0"
            ],
            "text/html": [
              "\n",
              "  <div id=\"df-2f2149ff-55e4-43c8-996e-82a1bc5597bf\" class=\"colab-df-container\">\n",
              "    <div>\n",
              "<style scoped>\n",
              "    .dataframe tbody tr th:only-of-type {\n",
              "        vertical-align: middle;\n",
              "    }\n",
              "\n",
              "    .dataframe tbody tr th {\n",
              "        vertical-align: top;\n",
              "    }\n",
              "\n",
              "    .dataframe thead th {\n",
              "        text-align: right;\n",
              "    }\n",
              "</style>\n",
              "<table border=\"1\" class=\"dataframe\">\n",
              "  <thead>\n",
              "    <tr style=\"text-align: right;\">\n",
              "      <th></th>\n",
              "      <th>group</th>\n",
              "      <th>transaction</th>\n",
              "    </tr>\n",
              "  </thead>\n",
              "  <tbody>\n",
              "    <tr>\n",
              "      <th>0</th>\n",
              "      <td>B</td>\n",
              "      <td>0</td>\n",
              "    </tr>\n",
              "    <tr>\n",
              "      <th>1</th>\n",
              "      <td>B</td>\n",
              "      <td>0</td>\n",
              "    </tr>\n",
              "    <tr>\n",
              "      <th>2</th>\n",
              "      <td>A</td>\n",
              "      <td>0</td>\n",
              "    </tr>\n",
              "    <tr>\n",
              "      <th>3</th>\n",
              "      <td>B</td>\n",
              "      <td>0</td>\n",
              "    </tr>\n",
              "    <tr>\n",
              "      <th>4</th>\n",
              "      <td>A</td>\n",
              "      <td>0</td>\n",
              "    </tr>\n",
              "  </tbody>\n",
              "</table>\n",
              "</div>\n",
              "    <div class=\"colab-df-buttons\">\n",
              "\n",
              "  <div class=\"colab-df-container\">\n",
              "    <button class=\"colab-df-convert\" onclick=\"convertToInteractive('df-2f2149ff-55e4-43c8-996e-82a1bc5597bf')\"\n",
              "            title=\"Convert this dataframe to an interactive table.\"\n",
              "            style=\"display:none;\">\n",
              "\n",
              "  <svg xmlns=\"http://www.w3.org/2000/svg\" height=\"24px\" viewBox=\"0 -960 960 960\">\n",
              "    <path d=\"M120-120v-720h720v720H120Zm60-500h600v-160H180v160Zm220 220h160v-160H400v160Zm0 220h160v-160H400v160ZM180-400h160v-160H180v160Zm440 0h160v-160H620v160ZM180-180h160v-160H180v160Zm440 0h160v-160H620v160Z\"/>\n",
              "  </svg>\n",
              "    </button>\n",
              "\n",
              "  <style>\n",
              "    .colab-df-container {\n",
              "      display:flex;\n",
              "      gap: 12px;\n",
              "    }\n",
              "\n",
              "    .colab-df-convert {\n",
              "      background-color: #E8F0FE;\n",
              "      border: none;\n",
              "      border-radius: 50%;\n",
              "      cursor: pointer;\n",
              "      display: none;\n",
              "      fill: #1967D2;\n",
              "      height: 32px;\n",
              "      padding: 0 0 0 0;\n",
              "      width: 32px;\n",
              "    }\n",
              "\n",
              "    .colab-df-convert:hover {\n",
              "      background-color: #E2EBFA;\n",
              "      box-shadow: 0px 1px 2px rgba(60, 64, 67, 0.3), 0px 1px 3px 1px rgba(60, 64, 67, 0.15);\n",
              "      fill: #174EA6;\n",
              "    }\n",
              "\n",
              "    .colab-df-buttons div {\n",
              "      margin-bottom: 4px;\n",
              "    }\n",
              "\n",
              "    [theme=dark] .colab-df-convert {\n",
              "      background-color: #3B4455;\n",
              "      fill: #D2E3FC;\n",
              "    }\n",
              "\n",
              "    [theme=dark] .colab-df-convert:hover {\n",
              "      background-color: #434B5C;\n",
              "      box-shadow: 0px 1px 3px 1px rgba(0, 0, 0, 0.15);\n",
              "      filter: drop-shadow(0px 1px 2px rgba(0, 0, 0, 0.3));\n",
              "      fill: #FFFFFF;\n",
              "    }\n",
              "  </style>\n",
              "\n",
              "    <script>\n",
              "      const buttonEl =\n",
              "        document.querySelector('#df-2f2149ff-55e4-43c8-996e-82a1bc5597bf button.colab-df-convert');\n",
              "      buttonEl.style.display =\n",
              "        google.colab.kernel.accessAllowed ? 'block' : 'none';\n",
              "\n",
              "      async function convertToInteractive(key) {\n",
              "        const element = document.querySelector('#df-2f2149ff-55e4-43c8-996e-82a1bc5597bf');\n",
              "        const dataTable =\n",
              "          await google.colab.kernel.invokeFunction('convertToInteractive',\n",
              "                                                    [key], {});\n",
              "        if (!dataTable) return;\n",
              "\n",
              "        const docLinkHtml = 'Like what you see? Visit the ' +\n",
              "          '<a target=\"_blank\" href=https://colab.research.google.com/notebooks/data_table.ipynb>data table notebook</a>'\n",
              "          + ' to learn more about interactive tables.';\n",
              "        element.innerHTML = '';\n",
              "        dataTable['output_type'] = 'display_data';\n",
              "        await google.colab.output.renderOutput(dataTable, element);\n",
              "        const docLink = document.createElement('div');\n",
              "        docLink.innerHTML = docLinkHtml;\n",
              "        element.appendChild(docLink);\n",
              "      }\n",
              "    </script>\n",
              "  </div>\n",
              "\n",
              "\n",
              "<div id=\"df-853a552b-088b-44a1-9590-a482692ffda0\">\n",
              "  <button class=\"colab-df-quickchart\" onclick=\"quickchart('df-853a552b-088b-44a1-9590-a482692ffda0')\"\n",
              "            title=\"Suggest charts\"\n",
              "            style=\"display:none;\">\n",
              "\n",
              "<svg xmlns=\"http://www.w3.org/2000/svg\" height=\"24px\"viewBox=\"0 0 24 24\"\n",
              "     width=\"24px\">\n",
              "    <g>\n",
              "        <path d=\"M19 3H5c-1.1 0-2 .9-2 2v14c0 1.1.9 2 2 2h14c1.1 0 2-.9 2-2V5c0-1.1-.9-2-2-2zM9 17H7v-7h2v7zm4 0h-2V7h2v10zm4 0h-2v-4h2v4z\"/>\n",
              "    </g>\n",
              "</svg>\n",
              "  </button>\n",
              "\n",
              "<style>\n",
              "  .colab-df-quickchart {\n",
              "      --bg-color: #E8F0FE;\n",
              "      --fill-color: #1967D2;\n",
              "      --hover-bg-color: #E2EBFA;\n",
              "      --hover-fill-color: #174EA6;\n",
              "      --disabled-fill-color: #AAA;\n",
              "      --disabled-bg-color: #DDD;\n",
              "  }\n",
              "\n",
              "  [theme=dark] .colab-df-quickchart {\n",
              "      --bg-color: #3B4455;\n",
              "      --fill-color: #D2E3FC;\n",
              "      --hover-bg-color: #434B5C;\n",
              "      --hover-fill-color: #FFFFFF;\n",
              "      --disabled-bg-color: #3B4455;\n",
              "      --disabled-fill-color: #666;\n",
              "  }\n",
              "\n",
              "  .colab-df-quickchart {\n",
              "    background-color: var(--bg-color);\n",
              "    border: none;\n",
              "    border-radius: 50%;\n",
              "    cursor: pointer;\n",
              "    display: none;\n",
              "    fill: var(--fill-color);\n",
              "    height: 32px;\n",
              "    padding: 0;\n",
              "    width: 32px;\n",
              "  }\n",
              "\n",
              "  .colab-df-quickchart:hover {\n",
              "    background-color: var(--hover-bg-color);\n",
              "    box-shadow: 0 1px 2px rgba(60, 64, 67, 0.3), 0 1px 3px 1px rgba(60, 64, 67, 0.15);\n",
              "    fill: var(--button-hover-fill-color);\n",
              "  }\n",
              "\n",
              "  .colab-df-quickchart-complete:disabled,\n",
              "  .colab-df-quickchart-complete:disabled:hover {\n",
              "    background-color: var(--disabled-bg-color);\n",
              "    fill: var(--disabled-fill-color);\n",
              "    box-shadow: none;\n",
              "  }\n",
              "\n",
              "  .colab-df-spinner {\n",
              "    border: 2px solid var(--fill-color);\n",
              "    border-color: transparent;\n",
              "    border-bottom-color: var(--fill-color);\n",
              "    animation:\n",
              "      spin 1s steps(1) infinite;\n",
              "  }\n",
              "\n",
              "  @keyframes spin {\n",
              "    0% {\n",
              "      border-color: transparent;\n",
              "      border-bottom-color: var(--fill-color);\n",
              "      border-left-color: var(--fill-color);\n",
              "    }\n",
              "    20% {\n",
              "      border-color: transparent;\n",
              "      border-left-color: var(--fill-color);\n",
              "      border-top-color: var(--fill-color);\n",
              "    }\n",
              "    30% {\n",
              "      border-color: transparent;\n",
              "      border-left-color: var(--fill-color);\n",
              "      border-top-color: var(--fill-color);\n",
              "      border-right-color: var(--fill-color);\n",
              "    }\n",
              "    40% {\n",
              "      border-color: transparent;\n",
              "      border-right-color: var(--fill-color);\n",
              "      border-top-color: var(--fill-color);\n",
              "    }\n",
              "    60% {\n",
              "      border-color: transparent;\n",
              "      border-right-color: var(--fill-color);\n",
              "    }\n",
              "    80% {\n",
              "      border-color: transparent;\n",
              "      border-right-color: var(--fill-color);\n",
              "      border-bottom-color: var(--fill-color);\n",
              "    }\n",
              "    90% {\n",
              "      border-color: transparent;\n",
              "      border-bottom-color: var(--fill-color);\n",
              "    }\n",
              "  }\n",
              "</style>\n",
              "\n",
              "  <script>\n",
              "    async function quickchart(key) {\n",
              "      const quickchartButtonEl =\n",
              "        document.querySelector('#' + key + ' button');\n",
              "      quickchartButtonEl.disabled = true;  // To prevent multiple clicks.\n",
              "      quickchartButtonEl.classList.add('colab-df-spinner');\n",
              "      try {\n",
              "        const charts = await google.colab.kernel.invokeFunction(\n",
              "            'suggestCharts', [key], {});\n",
              "      } catch (error) {\n",
              "        console.error('Error during call to suggestCharts:', error);\n",
              "      }\n",
              "      quickchartButtonEl.classList.remove('colab-df-spinner');\n",
              "      quickchartButtonEl.classList.add('colab-df-quickchart-complete');\n",
              "    }\n",
              "    (() => {\n",
              "      let quickchartButtonEl =\n",
              "        document.querySelector('#df-853a552b-088b-44a1-9590-a482692ffda0 button');\n",
              "      quickchartButtonEl.style.display =\n",
              "        google.colab.kernel.accessAllowed ? 'block' : 'none';\n",
              "    })();\n",
              "  </script>\n",
              "</div>\n",
              "\n",
              "    </div>\n",
              "  </div>\n"
            ],
            "application/vnd.google.colaboratory.intrinsic+json": {
              "type": "dataframe",
              "variable_name": "a_b_test",
              "summary": "{\n  \"name\": \"a_b_test\",\n  \"rows\": 4398,\n  \"fields\": [\n    {\n      \"column\": \"group\",\n      \"properties\": {\n        \"dtype\": \"category\",\n        \"num_unique_values\": 2,\n        \"samples\": [\n          \"A\",\n          \"B\"\n        ],\n        \"semantic_type\": \"\",\n        \"description\": \"\"\n      }\n    },\n    {\n      \"column\": \"transaction\",\n      \"properties\": {\n        \"dtype\": \"number\",\n        \"std\": 0,\n        \"min\": 0,\n        \"max\": 1,\n        \"num_unique_values\": 2,\n        \"samples\": [\n          1,\n          0\n        ],\n        \"semantic_type\": \"\",\n        \"description\": \"\"\n      }\n    }\n  ]\n}"
            }
          },
          "metadata": {},
          "execution_count": 64
        }
      ]
    },
    {
      "cell_type": "markdown",
      "source": [
        "Создайте summary_table. Код должен иметь структуру (названия колонок, строк и их количество) как на таблице со скриншота."
      ],
      "metadata": {
        "id": "qEQuR9MyM3_F"
      },
      "id": "qEQuR9MyM3_F"
    },
    {
      "cell_type": "code",
      "source": [
        "summary_table = a_b_test.groupby('group')['transaction'].agg(['count', 'sum'])\n",
        "summary_table.columns = ['Number of Clients', 'Number of Transactions']\n",
        "summary_table['Conversion Rate'] = summary_table['Number of Transactions'] / summary_table['Number of Clients']\n",
        "summary_table.reset_index()"
      ],
      "metadata": {
        "colab": {
          "base_uri": "https://localhost:8080/",
          "height": 111
        },
        "id": "BWPhAVUxCZy-",
        "outputId": "2359cbaf-6d8c-4f79-fa40-2149ec19ea88"
      },
      "id": "BWPhAVUxCZy-",
      "execution_count": null,
      "outputs": [
        {
          "output_type": "execute_result",
          "data": {
            "text/plain": [
              "  group  Number of Clients  Number of Transactions  Conversion Rate\n",
              "0     A               2060                      56         0.027184\n",
              "1     B               2338                      74         0.031651"
            ],
            "text/html": [
              "\n",
              "  <div id=\"df-d00dc604-674a-47e7-a2a0-244fc9694d04\" class=\"colab-df-container\">\n",
              "    <div>\n",
              "<style scoped>\n",
              "    .dataframe tbody tr th:only-of-type {\n",
              "        vertical-align: middle;\n",
              "    }\n",
              "\n",
              "    .dataframe tbody tr th {\n",
              "        vertical-align: top;\n",
              "    }\n",
              "\n",
              "    .dataframe thead th {\n",
              "        text-align: right;\n",
              "    }\n",
              "</style>\n",
              "<table border=\"1\" class=\"dataframe\">\n",
              "  <thead>\n",
              "    <tr style=\"text-align: right;\">\n",
              "      <th></th>\n",
              "      <th>group</th>\n",
              "      <th>Number of Clients</th>\n",
              "      <th>Number of Transactions</th>\n",
              "      <th>Conversion Rate</th>\n",
              "    </tr>\n",
              "  </thead>\n",
              "  <tbody>\n",
              "    <tr>\n",
              "      <th>0</th>\n",
              "      <td>A</td>\n",
              "      <td>2060</td>\n",
              "      <td>56</td>\n",
              "      <td>0.027184</td>\n",
              "    </tr>\n",
              "    <tr>\n",
              "      <th>1</th>\n",
              "      <td>B</td>\n",
              "      <td>2338</td>\n",
              "      <td>74</td>\n",
              "      <td>0.031651</td>\n",
              "    </tr>\n",
              "  </tbody>\n",
              "</table>\n",
              "</div>\n",
              "    <div class=\"colab-df-buttons\">\n",
              "\n",
              "  <div class=\"colab-df-container\">\n",
              "    <button class=\"colab-df-convert\" onclick=\"convertToInteractive('df-d00dc604-674a-47e7-a2a0-244fc9694d04')\"\n",
              "            title=\"Convert this dataframe to an interactive table.\"\n",
              "            style=\"display:none;\">\n",
              "\n",
              "  <svg xmlns=\"http://www.w3.org/2000/svg\" height=\"24px\" viewBox=\"0 -960 960 960\">\n",
              "    <path d=\"M120-120v-720h720v720H120Zm60-500h600v-160H180v160Zm220 220h160v-160H400v160Zm0 220h160v-160H400v160ZM180-400h160v-160H180v160Zm440 0h160v-160H620v160ZM180-180h160v-160H180v160Zm440 0h160v-160H620v160Z\"/>\n",
              "  </svg>\n",
              "    </button>\n",
              "\n",
              "  <style>\n",
              "    .colab-df-container {\n",
              "      display:flex;\n",
              "      gap: 12px;\n",
              "    }\n",
              "\n",
              "    .colab-df-convert {\n",
              "      background-color: #E8F0FE;\n",
              "      border: none;\n",
              "      border-radius: 50%;\n",
              "      cursor: pointer;\n",
              "      display: none;\n",
              "      fill: #1967D2;\n",
              "      height: 32px;\n",
              "      padding: 0 0 0 0;\n",
              "      width: 32px;\n",
              "    }\n",
              "\n",
              "    .colab-df-convert:hover {\n",
              "      background-color: #E2EBFA;\n",
              "      box-shadow: 0px 1px 2px rgba(60, 64, 67, 0.3), 0px 1px 3px 1px rgba(60, 64, 67, 0.15);\n",
              "      fill: #174EA6;\n",
              "    }\n",
              "\n",
              "    .colab-df-buttons div {\n",
              "      margin-bottom: 4px;\n",
              "    }\n",
              "\n",
              "    [theme=dark] .colab-df-convert {\n",
              "      background-color: #3B4455;\n",
              "      fill: #D2E3FC;\n",
              "    }\n",
              "\n",
              "    [theme=dark] .colab-df-convert:hover {\n",
              "      background-color: #434B5C;\n",
              "      box-shadow: 0px 1px 3px 1px rgba(0, 0, 0, 0.15);\n",
              "      filter: drop-shadow(0px 1px 2px rgba(0, 0, 0, 0.3));\n",
              "      fill: #FFFFFF;\n",
              "    }\n",
              "  </style>\n",
              "\n",
              "    <script>\n",
              "      const buttonEl =\n",
              "        document.querySelector('#df-d00dc604-674a-47e7-a2a0-244fc9694d04 button.colab-df-convert');\n",
              "      buttonEl.style.display =\n",
              "        google.colab.kernel.accessAllowed ? 'block' : 'none';\n",
              "\n",
              "      async function convertToInteractive(key) {\n",
              "        const element = document.querySelector('#df-d00dc604-674a-47e7-a2a0-244fc9694d04');\n",
              "        const dataTable =\n",
              "          await google.colab.kernel.invokeFunction('convertToInteractive',\n",
              "                                                    [key], {});\n",
              "        if (!dataTable) return;\n",
              "\n",
              "        const docLinkHtml = 'Like what you see? Visit the ' +\n",
              "          '<a target=\"_blank\" href=https://colab.research.google.com/notebooks/data_table.ipynb>data table notebook</a>'\n",
              "          + ' to learn more about interactive tables.';\n",
              "        element.innerHTML = '';\n",
              "        dataTable['output_type'] = 'display_data';\n",
              "        await google.colab.output.renderOutput(dataTable, element);\n",
              "        const docLink = document.createElement('div');\n",
              "        docLink.innerHTML = docLinkHtml;\n",
              "        element.appendChild(docLink);\n",
              "      }\n",
              "    </script>\n",
              "  </div>\n",
              "\n",
              "\n",
              "<div id=\"df-6d2f0a20-b633-49b2-8f5c-1c7279a01a5f\">\n",
              "  <button class=\"colab-df-quickchart\" onclick=\"quickchart('df-6d2f0a20-b633-49b2-8f5c-1c7279a01a5f')\"\n",
              "            title=\"Suggest charts\"\n",
              "            style=\"display:none;\">\n",
              "\n",
              "<svg xmlns=\"http://www.w3.org/2000/svg\" height=\"24px\"viewBox=\"0 0 24 24\"\n",
              "     width=\"24px\">\n",
              "    <g>\n",
              "        <path d=\"M19 3H5c-1.1 0-2 .9-2 2v14c0 1.1.9 2 2 2h14c1.1 0 2-.9 2-2V5c0-1.1-.9-2-2-2zM9 17H7v-7h2v7zm4 0h-2V7h2v10zm4 0h-2v-4h2v4z\"/>\n",
              "    </g>\n",
              "</svg>\n",
              "  </button>\n",
              "\n",
              "<style>\n",
              "  .colab-df-quickchart {\n",
              "      --bg-color: #E8F0FE;\n",
              "      --fill-color: #1967D2;\n",
              "      --hover-bg-color: #E2EBFA;\n",
              "      --hover-fill-color: #174EA6;\n",
              "      --disabled-fill-color: #AAA;\n",
              "      --disabled-bg-color: #DDD;\n",
              "  }\n",
              "\n",
              "  [theme=dark] .colab-df-quickchart {\n",
              "      --bg-color: #3B4455;\n",
              "      --fill-color: #D2E3FC;\n",
              "      --hover-bg-color: #434B5C;\n",
              "      --hover-fill-color: #FFFFFF;\n",
              "      --disabled-bg-color: #3B4455;\n",
              "      --disabled-fill-color: #666;\n",
              "  }\n",
              "\n",
              "  .colab-df-quickchart {\n",
              "    background-color: var(--bg-color);\n",
              "    border: none;\n",
              "    border-radius: 50%;\n",
              "    cursor: pointer;\n",
              "    display: none;\n",
              "    fill: var(--fill-color);\n",
              "    height: 32px;\n",
              "    padding: 0;\n",
              "    width: 32px;\n",
              "  }\n",
              "\n",
              "  .colab-df-quickchart:hover {\n",
              "    background-color: var(--hover-bg-color);\n",
              "    box-shadow: 0 1px 2px rgba(60, 64, 67, 0.3), 0 1px 3px 1px rgba(60, 64, 67, 0.15);\n",
              "    fill: var(--button-hover-fill-color);\n",
              "  }\n",
              "\n",
              "  .colab-df-quickchart-complete:disabled,\n",
              "  .colab-df-quickchart-complete:disabled:hover {\n",
              "    background-color: var(--disabled-bg-color);\n",
              "    fill: var(--disabled-fill-color);\n",
              "    box-shadow: none;\n",
              "  }\n",
              "\n",
              "  .colab-df-spinner {\n",
              "    border: 2px solid var(--fill-color);\n",
              "    border-color: transparent;\n",
              "    border-bottom-color: var(--fill-color);\n",
              "    animation:\n",
              "      spin 1s steps(1) infinite;\n",
              "  }\n",
              "\n",
              "  @keyframes spin {\n",
              "    0% {\n",
              "      border-color: transparent;\n",
              "      border-bottom-color: var(--fill-color);\n",
              "      border-left-color: var(--fill-color);\n",
              "    }\n",
              "    20% {\n",
              "      border-color: transparent;\n",
              "      border-left-color: var(--fill-color);\n",
              "      border-top-color: var(--fill-color);\n",
              "    }\n",
              "    30% {\n",
              "      border-color: transparent;\n",
              "      border-left-color: var(--fill-color);\n",
              "      border-top-color: var(--fill-color);\n",
              "      border-right-color: var(--fill-color);\n",
              "    }\n",
              "    40% {\n",
              "      border-color: transparent;\n",
              "      border-right-color: var(--fill-color);\n",
              "      border-top-color: var(--fill-color);\n",
              "    }\n",
              "    60% {\n",
              "      border-color: transparent;\n",
              "      border-right-color: var(--fill-color);\n",
              "    }\n",
              "    80% {\n",
              "      border-color: transparent;\n",
              "      border-right-color: var(--fill-color);\n",
              "      border-bottom-color: var(--fill-color);\n",
              "    }\n",
              "    90% {\n",
              "      border-color: transparent;\n",
              "      border-bottom-color: var(--fill-color);\n",
              "    }\n",
              "  }\n",
              "</style>\n",
              "\n",
              "  <script>\n",
              "    async function quickchart(key) {\n",
              "      const quickchartButtonEl =\n",
              "        document.querySelector('#' + key + ' button');\n",
              "      quickchartButtonEl.disabled = true;  // To prevent multiple clicks.\n",
              "      quickchartButtonEl.classList.add('colab-df-spinner');\n",
              "      try {\n",
              "        const charts = await google.colab.kernel.invokeFunction(\n",
              "            'suggestCharts', [key], {});\n",
              "      } catch (error) {\n",
              "        console.error('Error during call to suggestCharts:', error);\n",
              "      }\n",
              "      quickchartButtonEl.classList.remove('colab-df-spinner');\n",
              "      quickchartButtonEl.classList.add('colab-df-quickchart-complete');\n",
              "    }\n",
              "    (() => {\n",
              "      let quickchartButtonEl =\n",
              "        document.querySelector('#df-6d2f0a20-b633-49b2-8f5c-1c7279a01a5f button');\n",
              "      quickchartButtonEl.style.display =\n",
              "        google.colab.kernel.accessAllowed ? 'block' : 'none';\n",
              "    })();\n",
              "  </script>\n",
              "</div>\n",
              "\n",
              "    </div>\n",
              "  </div>\n"
            ],
            "application/vnd.google.colaboratory.intrinsic+json": {
              "type": "dataframe",
              "summary": "{\n  \"name\": \"summary_table\",\n  \"rows\": 2,\n  \"fields\": [\n    {\n      \"column\": \"group\",\n      \"properties\": {\n        \"dtype\": \"string\",\n        \"num_unique_values\": 2,\n        \"samples\": [\n          \"B\",\n          \"A\"\n        ],\n        \"semantic_type\": \"\",\n        \"description\": \"\"\n      }\n    },\n    {\n      \"column\": \"Number of Clients\",\n      \"properties\": {\n        \"dtype\": \"number\",\n        \"std\": 196,\n        \"min\": 2060,\n        \"max\": 2338,\n        \"num_unique_values\": 2,\n        \"samples\": [\n          2338,\n          2060\n        ],\n        \"semantic_type\": \"\",\n        \"description\": \"\"\n      }\n    },\n    {\n      \"column\": \"Number of Transactions\",\n      \"properties\": {\n        \"dtype\": \"number\",\n        \"std\": 12,\n        \"min\": 56,\n        \"max\": 74,\n        \"num_unique_values\": 2,\n        \"samples\": [\n          74,\n          56\n        ],\n        \"semantic_type\": \"\",\n        \"description\": \"\"\n      }\n    },\n    {\n      \"column\": \"Conversion Rate\",\n      \"properties\": {\n        \"dtype\": \"number\",\n        \"std\": 0.0031583049733165448,\n        \"min\": 0.027184466019417475,\n        \"max\": 0.03165098374679213,\n        \"num_unique_values\": 2,\n        \"samples\": [\n          0.03165098374679213,\n          0.027184466019417475\n        ],\n        \"semantic_type\": \"\",\n        \"description\": \"\"\n      }\n    }\n  ]\n}"
            }
          },
          "metadata": {},
          "execution_count": 65
        }
      ]
    },
    {
      "cell_type": "markdown",
      "source": [
        "Отфильтруйте исходную таблицу, оставив в ней только клиентов группы А - результат назовите A_group. Создайте аналогичный объект B_group по группе B.\n",
        "\n",
        "Нарисуйте гистограмму, отображающую на одном рисунке количество успешных транзакций (кликов по кнопке) для каждой группы."
      ],
      "metadata": {
        "id": "8aOszemUD0ZO"
      },
      "id": "8aOszemUD0ZO"
    },
    {
      "cell_type": "code",
      "source": [
        "A_group = a_b_test[a_b_test['group'] == 'A']\n",
        "B_group = a_b_test[a_b_test['group'] == 'B']\n",
        "A_success = A_group['transaction'].sum()\n",
        "B_success = B_group['transaction'].sum()\n",
        "group = ['A', 'B']\n",
        "successes = [A_success, B_success]\n",
        "plt.figure(figsize=(7, 5))\n",
        "plt.bar(group, successes)\n",
        "plt.xlabel('Group')\n",
        "plt.ylabel('Number of Successful Transactions')\n",
        "plt.title('Successes')\n",
        "plt.show()"
      ],
      "metadata": {
        "id": "ifOA8zagCsyG",
        "colab": {
          "base_uri": "https://localhost:8080/",
          "height": 487
        },
        "outputId": "1293b808-6970-41c6-f1ab-a059b030d659"
      },
      "id": "ifOA8zagCsyG",
      "execution_count": null,
      "outputs": [
        {
          "output_type": "display_data",
          "data": {
            "text/plain": [
              "<Figure size 700x500 with 1 Axes>"
            ],
            "image/png": "[encoded data removed]"
          },
          "metadata": {}
        }
      ]
    },
    {
      "cell_type": "markdown",
      "source": [
        "Проведите статистический тест для сравнения эффекта от изменения названия кнопки. Сначала сформулируйте гипотезу, затем выберите тест и фиксируйте уровень значимости 0.05. Выберите подходящий тест и объясните его выбор. Проверьте гипотезу и сделайте выводы.\n",
        "\n",
        "__Выводы (продублируйте в гугл-форму):__\n"
      ],
      "metadata": {
        "id": "NB4e-BeOEVT5"
      },
      "id": "NB4e-BeOEVT5"
    },
    {
      "cell_type": "markdown",
      "source": [
        "h0: Изменение названия кнопки не влияет на конверсию\n",
        "\n",
        "h1: Изменение названия кнопки влияет на конверсию"
      ],
      "metadata": {
        "id": "VmBcaTiqPgnl"
      },
      "id": "VmBcaTiqPgnl"
    },
    {
      "cell_type": "code",
      "source": [
        "from statsmodels.stats.proportion import proportions_ztest\n",
        "stat, pval = proportions_ztest([B_success, A_success], [B_group.shape[0], A_group.shape[0]])\n",
        "if pval < 0.05:\n",
        "    print('Отвергаем нулевую гипотезу на уровне значимости 5%')\n",
        "else:\n",
        "    print('Не отвергаем нулевую гипотезу на уровне значимости 5%')"
      ],
      "metadata": {
        "colab": {
          "base_uri": "https://localhost:8080/"
        },
        "id": "tKxj5-KRPLA-",
        "outputId": "20849454-3704-4c94-e1f1-f6e99bea4ba4"
      },
      "id": "tKxj5-KRPLA-",
      "execution_count": null,
      "outputs": [
        {
          "output_type": "stream",
          "name": "stdout",
          "text": [
            "Не отвергаем нулевую гипотезу на уровне значимости 5%\n"
          ]
        }
      ]
    },
    {
      "cell_type": "markdown",
      "source": [
        "Так как у нас есть две независимые выборки (группы A и B), я использовала  z-тест для двух пропорций. Этот тест позволяет сравнить пропорции двух групп и определить, есть ли статистически значимая разница между ними. По его результату можно сделать вывод, что конверсия не отличается"
      ],
      "metadata": {
        "id": "bTt43VFPRPDC"
      },
      "id": "bTt43VFPRPDC"
    }
  ],
  "metadata": {
    "kernelspec": {
      "display_name": "Python 3 (ipykernel)",
      "language": "python",
      "name": "python3"
    },
    "language_info": {
      "codemirror_mode": {
        "name": "ipython",
        "version": 3
      },
      "file_extension": ".py",
      "mimetype": "text/x-python",
      "name": "python",
      "nbconvert_exporter": "python",
      "pygments_lexer": "ipython3",
      "version": "3.10.9"
    },
    "colab": {
      "provenance": []
    }
  },
  "nbformat": 4,
  "nbformat_minor": 5
}